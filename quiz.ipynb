{
 "cells": [
  {
   "cell_type": "code",
   "execution_count": 6,
   "metadata": {},
   "outputs": [
    {
     "name": "stdout",
     "output_type": "stream",
     "text": [
      "[ 0.   10.   15.   20.   25.   29.25]\n",
      "[ 0.    10.    15.    20.    24.3   29.061]\n",
      "[ 0.       10.       15.       19.35     24.1245   29.013615]\n",
      "[ 0.        10.        14.4       19.188     24.08076   29.0018052]\n",
      "[ 0.          9.1        14.157      19.12239    24.0630453  28.99702223]\n",
      "\n",
      "Final answer: 28.997022231\n"
     ]
    }
   ],
   "source": [
    "import numpy as np\n",
    "\n",
    "values = [0,10,15,20,25,30]\n",
    "gamma = 0.9\n",
    "alpha = 0.1\n",
    "lamb = 0.3\n",
    "z = np.zeros(6)\n",
    "r = np.array([1,0,0,0,0,0])\n",
    "w = values\n",
    "\n",
    "index = -1\n",
    "for _, val in enumerate(reversed(values)):\n",
    "    if val == values[-1]:\n",
    "        continue\n",
    "    gradient = np.zeros_like(z)\n",
    "    gradient[index] = 1\n",
    "    z = gamma*lamb*z + gradient\n",
    "    delta = r[index-1] + gamma*values[index-1] - values[index]\n",
    "    w += alpha*delta*z\n",
    "    index -= 1\n",
    "    print(w)\n",
    "\n",
    "print(f\"\\nFinal answer: {w[-1]}\")\n"
   ]
  }
 ],
 "metadata": {
  "kernelspec": {
   "display_name": "Python 3",
   "language": "python",
   "name": "python3"
  },
  "language_info": {
   "codemirror_mode": {
    "name": "ipython",
    "version": 3
   },
   "file_extension": ".py",
   "mimetype": "text/x-python",
   "name": "python",
   "nbconvert_exporter": "python",
   "pygments_lexer": "ipython3",
   "version": "3.12.2"
  }
 },
 "nbformat": 4,
 "nbformat_minor": 2
}
