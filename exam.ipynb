{
 "cells": [
  {
   "cell_type": "code",
   "execution_count": 10,
   "metadata": {},
   "outputs": [],
   "source": [
    "import numpy as np"
   ]
  },
  {
   "cell_type": "markdown",
   "metadata": {},
   "source": [
    "## TD Fixed Point (Q40-49)"
   ]
  },
  {
   "cell_type": "code",
   "execution_count": 11,
   "metadata": {},
   "outputs": [
    {
     "name": "stdout",
     "output_type": "stream",
     "text": [
      "Vector b: [0.33333333 0.        ]\n",
      "\n",
      "Matrix A: [[ 0.33333333  0.        ]\n",
      " [-0.16666667  0.33333333]]\n",
      "\n",
      "Vector w: [1.  0.5]\n",
      "Value of A: 0.0\n",
      "Value of B: 0.5\n",
      "Value of C: 1.0\n"
     ]
    }
   ],
   "source": [
    "gamma = 0.5\n",
    "a_feat = np.array([0,0])\n",
    "b_feat = np.array([0,1])\n",
    "c_feat = np.array([1,0])\n",
    "rewards = np.array([0,0,1])\n",
    "series = [a_feat, b_feat, c_feat]\n",
    "\n",
    "b = np.zeros_like(series)\n",
    "for i, feature in enumerate(series):\n",
    "    b[i] = feature*rewards[i]\n",
    "b = np.mean(b, 0)\n",
    "print(f\"Vector b: {b}\")\n",
    "\n",
    "A = []\n",
    "A.append(np.outer(series[0], series[0] - gamma*series[1]))\n",
    "A.append(np.outer(series[1], series[1] - gamma*series[2]))\n",
    "A.append(np.outer(series[2], series[2] - gamma*series[0]))\n",
    "A = np.array(A)\n",
    "A = np.mean(A, 0)\n",
    "print(f\"\\nMatrix A: {A}\")\n",
    "\n",
    "w = np.linalg.inv(A) @ b\n",
    "print(f\"\\nVector w: {w}\")\n",
    "a_val = np.inner(a_feat, w)\n",
    "b_val = np.inner(b_feat, w)\n",
    "c_val = np.inner(c_feat, w)\n",
    "print(f\"Value of A: {a_val}\")\n",
    "print(f\"Value of B: {b_val}\")\n",
    "print(f\"Value of C: {c_val}\")"
   ]
  },
  {
   "cell_type": "markdown",
   "metadata": {},
   "source": [
    "## Continuous unidimensional policy gradient"
   ]
  },
  {
   "cell_type": "code",
   "execution_count": 12,
   "metadata": {},
   "outputs": [
    {
     "name": "stdout",
     "output_type": "stream",
     "text": [
      "New mu: -0.09999999999999998\n",
      "New sigma: 0.1\n"
     ]
    },
    {
     "ename": "",
     "evalue": "",
     "output_type": "error",
     "traceback": [
      "\u001b[1;31mThe Kernel crashed while executing code in the current cell or a previous cell. \n",
      "\u001b[1;31mPlease review the code in the cell(s) to identify a possible cause of the failure. \n",
      "\u001b[1;31mClick <a href='https://aka.ms/vscodeJupyterKernelCrash'>here</a> for more info. \n",
      "\u001b[1;31mView Jupyter <a href='command:jupyter.viewOutput'>log</a> for further details."
     ]
    }
   ],
   "source": [
    "G = -1\n",
    "gamma = 1\n",
    "alpha = 0.01\n",
    "mu = 0\n",
    "sigma = 0.1\n",
    "a_0 = 0.1\n",
    "\n",
    "mu_new = mu + alpha*gamma*G*(a_0 - mu)/sigma**2\n",
    "print(f\"New mu: {mu_new}\")\n",
    "\n",
    "sigma_new = sigma + alpha*gamma*G*((a_0 - mu)**2/sigma**3 - 1/sigma)\n",
    "print(f\"New sigma: {sigma_new}\")"
   ]
  }
 ],
 "metadata": {
  "kernelspec": {
   "display_name": "Python 3",
   "language": "python",
   "name": "python3"
  },
  "language_info": {
   "codemirror_mode": {
    "name": "ipython",
    "version": 3
   },
   "file_extension": ".py",
   "mimetype": "text/x-python",
   "name": "python",
   "nbconvert_exporter": "python",
   "pygments_lexer": "ipython3",
   "version": "3.10.14"
  }
 },
 "nbformat": 4,
 "nbformat_minor": 2
}
