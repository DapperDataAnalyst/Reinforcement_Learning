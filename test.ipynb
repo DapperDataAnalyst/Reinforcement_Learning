{
 "cells": [
  {
   "cell_type": "code",
   "execution_count": 3,
   "metadata": {},
   "outputs": [
    {
     "name": "stdout",
     "output_type": "stream",
     "text": [
      "[ 0.   10.   15.   20.   25.   29.25]\n",
      "[ 0.    10.    15.    20.    24.3   29.061]\n",
      "[ 0.       10.       15.       19.35     24.1245   29.013615]\n",
      "[ 0.        10.        14.4       19.188     24.08076   29.0018052]\n",
      "[ 0.          9.1        14.157      19.12239    24.0630453  28.99702223]\n"
     ]
    },
    {
     "ename": "IndexError",
     "evalue": "index -7 is out of bounds for axis 0 with size 6",
     "output_type": "error",
     "traceback": [
      "\u001b[0;31m---------------------------------------------------------------------------\u001b[0m",
      "\u001b[0;31mIndexError\u001b[0m                                Traceback (most recent call last)",
      "Cell \u001b[0;32mIn[3], line 16\u001b[0m\n\u001b[1;32m     14\u001b[0m gradient[index] \u001b[38;5;241m=\u001b[39m \u001b[38;5;241m1\u001b[39m\n\u001b[1;32m     15\u001b[0m z \u001b[38;5;241m=\u001b[39m gamma\u001b[38;5;241m*\u001b[39mlamb\u001b[38;5;241m*\u001b[39mz \u001b[38;5;241m+\u001b[39m gradient\n\u001b[0;32m---> 16\u001b[0m delta \u001b[38;5;241m=\u001b[39m \u001b[43mr\u001b[49m\u001b[43m[\u001b[49m\u001b[43mindex\u001b[49m\u001b[38;5;241;43m-\u001b[39;49m\u001b[38;5;241;43m1\u001b[39;49m\u001b[43m]\u001b[49m \u001b[38;5;241m+\u001b[39m gamma\u001b[38;5;241m*\u001b[39mvalues[index\u001b[38;5;241m-\u001b[39m\u001b[38;5;241m1\u001b[39m] \u001b[38;5;241m-\u001b[39m values[index]\n\u001b[1;32m     17\u001b[0m w \u001b[38;5;241m+\u001b[39m\u001b[38;5;241m=\u001b[39m alpha\u001b[38;5;241m*\u001b[39mdelta\u001b[38;5;241m*\u001b[39mz\n\u001b[1;32m     18\u001b[0m index \u001b[38;5;241m-\u001b[39m\u001b[38;5;241m=\u001b[39m \u001b[38;5;241m1\u001b[39m\n",
      "\u001b[0;31mIndexError\u001b[0m: index -7 is out of bounds for axis 0 with size 6"
     ]
    }
   ],
   "source": [
    "import numpy as np\n",
    "\n",
    "values = [0,10,15,20,25,30]\n",
    "gamma = 0.9\n",
    "alpha = 0.1\n",
    "lamb = 0.3\n",
    "z = np.zeros(6)\n",
    "r = np.array([1,0,0,0,0,0])\n",
    "w = values\n",
    "\n",
    "index = -1\n",
    "for _, val in enumerate(reversed(values)):\n",
    "    gradient = np.zeros_like(z)\n",
    "    gradient[index] = 1\n",
    "    z = gamma*lamb*z + gradient\n",
    "    delta = r[index-1] + gamma*values[index-1] - values[index]\n",
    "    w += alpha*delta*z\n",
    "    index -= 1\n",
    "    print(w)\n"
   ]
  }
 ],
 "metadata": {
  "kernelspec": {
   "display_name": "Python 3",
   "language": "python",
   "name": "python3"
  },
  "language_info": {
   "codemirror_mode": {
    "name": "ipython",
    "version": 3
   },
   "file_extension": ".py",
   "mimetype": "text/x-python",
   "name": "python",
   "nbconvert_exporter": "python",
   "pygments_lexer": "ipython3",
   "version": "3.12.2"
  }
 },
 "nbformat": 4,
 "nbformat_minor": 2
}
